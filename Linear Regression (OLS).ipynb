{
 "cells": [
  {
   "cell_type": "code",
   "execution_count": 56,
   "id": "5a0c1f54-c97e-456c-b961-0ab18897f721",
   "metadata": {},
   "outputs": [],
   "source": [
    "import numpy as np\n",
    "import pandas as pd\n",
    "from sklearn.metrics import mean_absolute_error"
   ]
  },
  {
   "cell_type": "code",
   "execution_count": 98,
   "id": "5a4da5f0-5d48-4673-98ec-140c92b97885",
   "metadata": {},
   "outputs": [],
   "source": [
    "class LinearRegression:\n",
    "    \n",
    "    def __init__(self):\n",
    "        \n",
    "        self.m = 0\n",
    "        self.b = 0\n",
    "\n",
    "    def fit(self, X, Y):\n",
    "        \n",
    "        numerator = 0\n",
    "        denominator = 0\n",
    "        \n",
    "        for i in range(X.shape[0]):\n",
    "            \n",
    "            numerator = numerator + (Y[i] - Y.mean()) * (X[i] - X.mean())\n",
    "            denominator = denominator + (X[i] - X.mean())**2\n",
    "            \n",
    "            self.m = numerator / denominator\n",
    "\n",
    "            self.b = Y.mean() - self.m * X.mean()\n",
    "            \n",
    "    def predict(self, X):\n",
    "        \n",
    "        return (X * self.m + self.b)\n",
    "\n",
    "    def mse(self, Y, Y_pred):\n",
    "        \n",
    "        return np.mean((Y - Y_pred)**2)"
   ]
  },
  {
   "cell_type": "code",
   "execution_count": 99,
   "id": "6bfd1ded-420d-48fa-82d7-21871679a7d6",
   "metadata": {},
   "outputs": [],
   "source": [
    "df = pd.read_csv(r\"C:\\Users\\edupr\\Downloads\\placement.csv\")"
   ]
  },
  {
   "cell_type": "code",
   "execution_count": 100,
   "id": "88e1223a-f70c-4e25-81ca-587ff2a13e7e",
   "metadata": {},
   "outputs": [
    {
     "data": {
      "text/html": [
       "<div>\n",
       "<style scoped>\n",
       "    .dataframe tbody tr th:only-of-type {\n",
       "        vertical-align: middle;\n",
       "    }\n",
       "\n",
       "    .dataframe tbody tr th {\n",
       "        vertical-align: top;\n",
       "    }\n",
       "\n",
       "    .dataframe thead th {\n",
       "        text-align: right;\n",
       "    }\n",
       "</style>\n",
       "<table border=\"1\" class=\"dataframe\">\n",
       "  <thead>\n",
       "    <tr style=\"text-align: right;\">\n",
       "      <th></th>\n",
       "      <th>cgpa</th>\n",
       "      <th>package</th>\n",
       "    </tr>\n",
       "  </thead>\n",
       "  <tbody>\n",
       "    <tr>\n",
       "      <th>0</th>\n",
       "      <td>6.89</td>\n",
       "      <td>3.26</td>\n",
       "    </tr>\n",
       "    <tr>\n",
       "      <th>1</th>\n",
       "      <td>5.12</td>\n",
       "      <td>1.98</td>\n",
       "    </tr>\n",
       "    <tr>\n",
       "      <th>2</th>\n",
       "      <td>7.82</td>\n",
       "      <td>3.25</td>\n",
       "    </tr>\n",
       "    <tr>\n",
       "      <th>3</th>\n",
       "      <td>7.42</td>\n",
       "      <td>3.67</td>\n",
       "    </tr>\n",
       "    <tr>\n",
       "      <th>4</th>\n",
       "      <td>6.94</td>\n",
       "      <td>3.57</td>\n",
       "    </tr>\n",
       "  </tbody>\n",
       "</table>\n",
       "</div>"
      ],
      "text/plain": [
       "   cgpa  package\n",
       "0  6.89     3.26\n",
       "1  5.12     1.98\n",
       "2  7.82     3.25\n",
       "3  7.42     3.67\n",
       "4  6.94     3.57"
      ]
     },
     "execution_count": 100,
     "metadata": {},
     "output_type": "execute_result"
    }
   ],
   "source": [
    "df.head()"
   ]
  },
  {
   "cell_type": "code",
   "execution_count": 106,
   "id": "9fff5237-d99a-48e6-aed2-96db3ac2bc80",
   "metadata": {},
   "outputs": [],
   "source": [
    "X = df['cgpa']\n",
    "Y = df['package']"
   ]
  },
  {
   "cell_type": "code",
   "execution_count": 107,
   "id": "3fab507b-bd43-4051-a2b4-440d2a0295ff",
   "metadata": {},
   "outputs": [
    {
     "name": "stdout",
     "output_type": "stream",
     "text": [
      "0      6.89\n",
      "1      5.12\n",
      "2      7.82\n",
      "3      7.42\n",
      "4      6.94\n",
      "       ... \n",
      "195    6.93\n",
      "196    5.89\n",
      "197    7.21\n",
      "198    7.63\n",
      "199    6.22\n",
      "Name: cgpa, Length: 200, dtype: float64\n"
     ]
    }
   ],
   "source": [
    "print(X)"
   ]
  },
  {
   "cell_type": "code",
   "execution_count": 108,
   "id": "b99853f5-090e-48be-bf0f-d0e6e06641c7",
   "metadata": {},
   "outputs": [
    {
     "name": "stdout",
     "output_type": "stream",
     "text": [
      "0      3.26\n",
      "1      1.98\n",
      "2      3.25\n",
      "3      3.67\n",
      "4      3.57\n",
      "       ... \n",
      "195    2.46\n",
      "196    2.57\n",
      "197    3.24\n",
      "198    3.96\n",
      "199    2.33\n",
      "Name: package, Length: 200, dtype: float64\n"
     ]
    }
   ],
   "source": [
    "print(Y)"
   ]
  },
  {
   "cell_type": "code",
   "execution_count": 109,
   "id": "8ef57c4c-86f4-4c47-bb71-64d521ffbe81",
   "metadata": {},
   "outputs": [],
   "source": [
    "model = LinearRegression()"
   ]
  },
  {
   "cell_type": "markdown",
   "id": "e49567e7-b25d-4e34-9148-630a0a8643a7",
   "metadata": {},
   "source": [
    "model.fit(X,Y)"
   ]
  },
  {
   "cell_type": "code",
   "execution_count": 110,
   "id": "5dd5d236-095d-47de-8247-241663a39957",
   "metadata": {},
   "outputs": [],
   "source": [
    "model.fit(X,Y)"
   ]
  },
  {
   "cell_type": "code",
   "execution_count": 111,
   "id": "cb7c3cda-a0a5-4880-9a1d-84974a9c28ec",
   "metadata": {},
   "outputs": [],
   "source": [
    "Y_pred = model.predict(X)"
   ]
  },
  {
   "cell_type": "code",
   "execution_count": 112,
   "id": "950aaf22-a040-4c2d-a76f-caabe2cbddfc",
   "metadata": {},
   "outputs": [
    {
     "data": {
      "text/plain": [
       "0.2596266083419547"
      ]
     },
     "execution_count": 112,
     "metadata": {},
     "output_type": "execute_result"
    }
   ],
   "source": [
    "mae = mean_absolute_error(Y, Y_pred)\n",
    "mae"
   ]
  },
  {
   "cell_type": "code",
   "execution_count": 114,
   "id": "79224e2b-3d3a-4bbe-bc39-6a2c155332fa",
   "metadata": {},
   "outputs": [
    {
     "data": {
      "text/plain": [
       "0.5695912947937534"
      ]
     },
     "execution_count": 114,
     "metadata": {},
     "output_type": "execute_result"
    }
   ],
   "source": [
    "model.m"
   ]
  },
  {
   "cell_type": "code",
   "execution_count": 115,
   "id": "03811c9b-cade-49a8-8e21-9aee5ed3ae1a",
   "metadata": {},
   "outputs": [
    {
     "data": {
      "text/plain": [
       "-0.9856779462557332"
      ]
     },
     "execution_count": 115,
     "metadata": {},
     "output_type": "execute_result"
    }
   ],
   "source": [
    "model.b"
   ]
  },
  {
   "cell_type": "code",
   "execution_count": 117,
   "id": "93aa4357-84fe-405a-8e4e-4a3f749311b2",
   "metadata": {},
   "outputs": [
    {
     "data": {
      "text/plain": [
       "4.260257878794736"
      ]
     },
     "execution_count": 117,
     "metadata": {},
     "output_type": "execute_result"
    }
   ],
   "source": [
    "model.predict(9.21)"
   ]
  },
  {
   "cell_type": "code",
   "execution_count": null,
   "id": "c8b0b956-0ff2-4f5d-8bf9-9de3660ee986",
   "metadata": {},
   "outputs": [],
   "source": []
  }
 ],
 "metadata": {
  "kernelspec": {
   "display_name": "Python 3 (ipykernel)",
   "language": "python",
   "name": "python3"
  },
  "language_info": {
   "codemirror_mode": {
    "name": "ipython",
    "version": 3
   },
   "file_extension": ".py",
   "mimetype": "text/x-python",
   "name": "python",
   "nbconvert_exporter": "python",
   "pygments_lexer": "ipython3",
   "version": "3.11.9"
  }
 },
 "nbformat": 4,
 "nbformat_minor": 5
}
