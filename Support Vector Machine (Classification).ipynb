{
 "cells": [
  {
   "cell_type": "code",
   "execution_count": 1,
   "id": "c69e8ac9-91cb-4731-a1be-d9fc284ef440",
   "metadata": {},
   "outputs": [],
   "source": [
    "import numpy as np"
   ]
  },
  {
   "cell_type": "code",
   "execution_count": 46,
   "id": "4995f5f4-fb9e-4959-8c8c-707de1b46e18",
   "metadata": {},
   "outputs": [],
   "source": [
    "class SVM:\n",
    "    def __init__(self, lr = 0.001, lambda_param = 0.01, n_iters = 1000):\n",
    "        self.lr = lr\n",
    "        self.lambda_param = lambda_param\n",
    "        self.n_iters = n_iters\n",
    "        self.weight = None\n",
    "        self.bias = None\n",
    "\n",
    "    def fit(self, X, y):\n",
    "        n_samples, n_features = X.shape\n",
    "        self.weight = np.zeros(n_features)\n",
    "        self.bias = 0\n",
    "\n",
    "        y_ = np.where(y >=0, 1, -1)\n",
    "\n",
    "        for _ in range(self.n_iters):\n",
    "            for i, x_i in enumerate(X):\n",
    "                condition = (y_[i] * (np.dot(x_i,self.weight) + self.bias) ) >= 1\n",
    "                if (condition):\n",
    "                    dw = 2 * self.lambda_param * self.weight\n",
    "                    \n",
    "                    self.weight -= self.lr * dw\n",
    "                else:\n",
    "                    dw = 2 * self.lambda_param * self.weight - y_[i] * x_i\n",
    "                    db = y_[i]\n",
    "\n",
    "                    self.weight -= self.lr * dw\n",
    "                    self.bias = self.lr * db\n",
    "    def predict(self, X):\n",
    "        approx = np.dot(X, self.weight) + self.bias\n",
    "        return np.sign(approx)"
   ]
  },
  {
   "cell_type": "code",
   "execution_count": 49,
   "id": "7b23d04b-b7d9-4080-bce5-ceb52c0d2b3e",
   "metadata": {},
   "outputs": [],
   "source": [
    "from sklearn import datasets\n",
    "from sklearn.model_selection import train_test_split\n",
    "from sklearn.metrics import accuracy_score"
   ]
  },
  {
   "cell_type": "code",
   "execution_count": 21,
   "id": "66780563-c6a7-41b7-a922-4c8f556094c6",
   "metadata": {},
   "outputs": [],
   "source": [
    "X,y = datasets.make_blobs(n_samples = 100, n_features = 2, centers = 2, cluster_std= 1.05, random_state= 40)"
   ]
  },
  {
   "cell_type": "code",
   "execution_count": 22,
   "id": "33612314-e1f2-49f7-8d44-fb7e542db862",
   "metadata": {},
   "outputs": [
    {
     "name": "stdout",
     "output_type": "stream",
     "text": [
      "[[  6.22850397  -5.04445055]\n",
      " [ -3.01392766  -8.91441712]\n",
      " [  5.00419964  -2.55503395]\n",
      " [  6.61798548  -5.18977247]\n",
      " [ -1.17203322  -9.07428902]\n",
      " [ -1.8171622   -9.22909875]\n",
      " [ -3.78288052  -9.38303174]\n",
      " [  4.99120301  -4.44960958]\n",
      " [  4.83580422  -3.32095104]\n",
      " [ -0.40825547 -10.68054719]\n",
      " [  0.47712479  -9.44561159]\n",
      " [  5.89091194  -4.16142978]\n",
      " [  5.29826038  -5.66062395]\n",
      " [  6.76513436  -4.81429888]\n",
      " [  5.54783319  -4.58314922]\n",
      " [  7.48192008  -4.07180017]\n",
      " [  4.96065311  -4.62403097]\n",
      " [  4.8674248   -5.36590561]\n",
      " [ -1.81294631  -7.55640734]\n",
      " [ -0.36794574  -8.22791552]\n",
      " [  6.40447365  -3.98229833]\n",
      " [ -1.26561532  -8.61262708]\n",
      " [  5.35956232  -5.43635362]\n",
      " [  5.42764452  -3.40935431]\n",
      " [ -1.1004791   -7.78436803]\n",
      " [  6.0065631   -3.92071077]\n",
      " [ -1.81025484  -9.78353522]\n",
      " [  4.40294897  -4.42906326]\n",
      " [  4.6655956   -4.16850705]\n",
      " [ -3.41297976  -8.25043038]\n",
      " [ -2.05521901 -10.23141199]\n",
      " [ -0.07408293  -9.99162342]\n",
      " [  5.50091553  -5.71852601]\n",
      " [  5.78497383  -5.76419576]\n",
      " [  7.73236736  -2.39607885]\n",
      " [ -0.72123914  -8.45607028]\n",
      " [ -1.76772086  -9.42358002]\n",
      " [ -2.39097946 -10.18911759]\n",
      " [ -1.78948268  -8.62182811]\n",
      " [  3.97958484  -4.48528349]\n",
      " [ -3.29446134  -7.45269997]\n",
      " [ -3.25014567  -8.67304842]\n",
      " [  5.58810901  -2.86618159]\n",
      " [ -3.78671251  -8.71150267]\n",
      " [  6.73698751  -4.8249601 ]\n",
      " [ -1.22856371  -7.96317275]\n",
      " [  5.45188653  -2.42505765]\n",
      " [ -3.34179681  -9.47382989]\n",
      " [ -1.10941946  -8.26440066]\n",
      " [  6.09161582  -3.00441917]\n",
      " [  6.08984876  -4.65236881]\n",
      " [  9.38001894  -3.87831074]\n",
      " [ -2.73473836  -9.34777956]\n",
      " [  4.80039023  -6.81280209]\n",
      " [  5.1898727   -4.47707464]\n",
      " [  3.54475478  -2.25032946]\n",
      " [ -3.7504573   -8.67898121]\n",
      " [  0.56085542  -8.37942864]\n",
      " [  5.00053322  -3.86463093]\n",
      " [ -0.74123127  -7.87270877]\n",
      " [  3.72312513  -4.92573404]\n",
      " [  4.10320252  -5.22830733]\n",
      " [  5.33672967  -4.01075782]\n",
      " [ -1.27623368  -8.98138289]\n",
      " [ -1.28779169  -9.96055383]\n",
      " [ -0.92821801  -7.08718424]\n",
      " [  6.67146128  -3.44706713]\n",
      " [  7.61976591  -3.2033105 ]\n",
      " [ -1.76558632  -9.34943001]\n",
      " [  6.76656001  -2.64966903]\n",
      " [ -1.53809058  -8.77828137]\n",
      " [ -1.56398651 -10.72112526]\n",
      " [ -2.91411681  -9.03305688]\n",
      " [  6.6905357   -3.41902304]\n",
      " [  4.17781921  -3.7750934 ]\n",
      " [ -1.81467949 -10.05599013]\n",
      " [  6.83463082  -4.65355237]\n",
      " [ -2.03285195  -8.16158771]\n",
      " [  5.90351519  -4.41643011]\n",
      " [ -0.21804625  -9.21962706]\n",
      " [  5.98907266  -4.2939402 ]\n",
      " [  6.3724492   -5.53341346]\n",
      " [  4.12370702  -4.86146737]\n",
      " [ -2.72741154  -8.02826105]\n",
      " [ -0.48964367  -9.0782253 ]\n",
      " [ -2.37965416  -8.74973418]\n",
      " [ -1.83682056  -8.21952131]\n",
      " [ -4.87130376  -8.90918865]\n",
      " [  6.23774527  -3.32223351]\n",
      " [  6.85314528  -3.9347033 ]\n",
      " [ -2.42368058 -11.02723423]\n",
      " [ -3.62357832  -9.54329558]\n",
      " [  6.34428762  -3.39288716]\n",
      " [  5.85755805  -4.52709872]\n",
      " [ -0.96809323  -9.10081953]\n",
      " [  5.70291293  -4.39697276]\n",
      " [ -3.09442079  -9.2409609 ]\n",
      " [ -1.94314563  -7.97841703]\n",
      " [ -1.02074783  -8.96772273]\n",
      " [ -2.30635421  -8.37456353]]\n",
      "[1 0 1 1 0 0 0 1 1 0 0 1 1 1 1 1 1 1 0 0 1 0 1 1 0 1 0 1 1 0 0 0 1 1 1 0 0\n",
      " 0 0 1 0 0 1 0 1 0 1 0 0 1 1 1 0 1 1 1 0 0 1 0 1 1 1 0 0 0 1 1 0 1 0 0 0 1\n",
      " 1 0 1 0 1 0 1 1 1 0 0 0 0 0 1 1 0 0 1 1 0 1 0 0 0 0]\n"
     ]
    }
   ],
   "source": [
    "print(X)\n",
    "print(y)"
   ]
  },
  {
   "cell_type": "code",
   "execution_count": 23,
   "id": "792783fd-6c4a-480b-be57-0a6019aeb2c0",
   "metadata": {},
   "outputs": [],
   "source": [
    "y = np.where(y == 0, -1, 1)"
   ]
  },
  {
   "cell_type": "code",
   "execution_count": 20,
   "id": "9bc82580-e608-43b6-97f9-62522b224cac",
   "metadata": {},
   "outputs": [
    {
     "name": "stdout",
     "output_type": "stream",
     "text": [
      "[ 1  1 -1  1 -1 -1  1 -1  1 -1  1  1 -1  1  1  1  1  1  1  1 -1 -1 -1 -1\n",
      " -1 -1 -1 -1 -1 -1  1  1 -1 -1  1 -1  1 -1  1  1 -1 -1  1  1  1 -1 -1  1\n",
      "  1 -1]\n"
     ]
    }
   ],
   "source": [
    "print(y)"
   ]
  },
  {
   "cell_type": "code",
   "execution_count": 27,
   "id": "22d4b378-6b99-41ff-9d14-1ac482a375ac",
   "metadata": {},
   "outputs": [],
   "source": [
    "X_train, X_test, Y_train, Y_test = train_test_split(X, y, random_state= 2, stratify=y, test_size=0.1)"
   ]
  },
  {
   "cell_type": "code",
   "execution_count": 28,
   "id": "0cd6720e-2ae3-439b-9bb8-d7ac434aff9a",
   "metadata": {},
   "outputs": [
    {
     "data": {
      "text/plain": [
       "array([ 1,  1,  1, -1,  1, -1,  1,  1,  1, -1, -1, -1, -1,  1, -1, -1,  1,\n",
       "        1, -1,  1,  1, -1,  1, -1,  1,  1,  1, -1,  1, -1,  1, -1,  1,  1,\n",
       "        1,  1,  1,  1, -1,  1, -1, -1,  1,  1, -1, -1, -1, -1, -1,  1, -1,\n",
       "        1, -1, -1, -1, -1,  1,  1, -1, -1, -1,  1,  1, -1,  1,  1, -1,  1,\n",
       "       -1,  1,  1, -1,  1, -1,  1, -1, -1,  1,  1, -1, -1,  1, -1, -1,  1,\n",
       "       -1, -1, -1,  1, -1])"
      ]
     },
     "execution_count": 28,
     "metadata": {},
     "output_type": "execute_result"
    }
   ],
   "source": [
    "Y_train"
   ]
  },
  {
   "cell_type": "code",
   "execution_count": 47,
   "id": "ade7023e-e49d-4dfc-aa13-b9f90de327c4",
   "metadata": {},
   "outputs": [],
   "source": [
    "clf = SVM()\n",
    "clf.fit(X_train, Y_train)"
   ]
  },
  {
   "cell_type": "code",
   "execution_count": 48,
   "id": "39a25197-afdf-4ede-896b-0d86f08e51ce",
   "metadata": {},
   "outputs": [],
   "source": [
    "y_pred = clf.predict(X_train)"
   ]
  },
  {
   "cell_type": "code",
   "execution_count": 50,
   "id": "1299f269-558c-467b-9b41-7b614a97fbcd",
   "metadata": {},
   "outputs": [
    {
     "name": "stdout",
     "output_type": "stream",
     "text": [
      "1.0\n"
     ]
    }
   ],
   "source": [
    "print(accuracy_score(Y_train, y_pred))"
   ]
  },
  {
   "cell_type": "code",
   "execution_count": 51,
   "id": "334bd984-171a-47a7-8d35-14a0f2c1ab52",
   "metadata": {},
   "outputs": [
    {
     "name": "stdout",
     "output_type": "stream",
     "text": [
      "1.0\n"
     ]
    }
   ],
   "source": [
    "y_pred = clf.predict(X_test)\n",
    "print(accuracy_score(Y_test, y_pred))"
   ]
  },
  {
   "cell_type": "code",
   "execution_count": 53,
   "id": "0335fbf7-f92f-49b9-9351-b6a0fe4d1c57",
   "metadata": {},
   "outputs": [
    {
     "name": "stdout",
     "output_type": "stream",
     "text": [
      "[ True  True  True  True  True  True  True  True  True  True]\n"
     ]
    }
   ],
   "source": [
    "print(Y_test == y_pred)"
   ]
  },
  {
   "cell_type": "code",
   "execution_count": null,
   "id": "4a261a76-958f-4e1a-b5dc-30d6fb420f66",
   "metadata": {},
   "outputs": [],
   "source": []
  }
 ],
 "metadata": {
  "kernelspec": {
   "display_name": "Python 3 (ipykernel)",
   "language": "python",
   "name": "python3"
  },
  "language_info": {
   "codemirror_mode": {
    "name": "ipython",
    "version": 3
   },
   "file_extension": ".py",
   "mimetype": "text/x-python",
   "name": "python",
   "nbconvert_exporter": "python",
   "pygments_lexer": "ipython3",
   "version": "3.11.9"
  }
 },
 "nbformat": 4,
 "nbformat_minor": 5
}
